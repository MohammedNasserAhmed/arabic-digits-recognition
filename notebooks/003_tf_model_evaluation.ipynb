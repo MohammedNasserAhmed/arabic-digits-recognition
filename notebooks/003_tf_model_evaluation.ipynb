{
 "cells": [
  {
   "cell_type": "code",
   "execution_count": 1,
   "metadata": {},
   "outputs": [],
   "source": [
    "import os\n",
    "os.chdir(\"../\")"
   ]
  },
  {
   "cell_type": "code",
   "execution_count": 2,
   "metadata": {},
   "outputs": [
    {
     "data": {
      "text/plain": [
       "'e:\\\\MyOnlineCourses\\\\ML_Projects\\\\arabic-digits-recognition'"
      ]
     },
     "execution_count": 2,
     "metadata": {},
     "output_type": "execute_result"
    }
   ],
   "source": [
    "%pwd"
   ]
  },
  {
   "cell_type": "code",
   "execution_count": 3,
   "metadata": {},
   "outputs": [],
   "source": [
    "from dataclasses import dataclass\n",
    "from pathlib import Path\n",
    "\n",
    "\n",
    "@dataclass(frozen=True)\n",
    "class DataTFEvaluationConfig:\n",
    "    root_dir: Path\n",
    "    data_path: str\n",
    "    model_path:str\n",
    "    "
   ]
  },
  {
   "cell_type": "code",
   "execution_count": 4,
   "metadata": {},
   "outputs": [],
   "source": [
    "from src.ard.constants import *\n",
    "from src.ard.utils.help import read_yaml, create_directories\n",
    "\n",
    "class ConfigurationManager:\n",
    "    def __init__(\n",
    "        self,\n",
    "        config_filepath = CONFIG_FILE_PATH):\n",
    "\n",
    "        self.config = read_yaml(config_filepath)\n",
    "\n",
    "        create_directories([self.config.artifacts_root])\n",
    "\n",
    "\n",
    "    \n",
    "    def get_data_tf_evaluation_config(self) -> DataTFEvaluationConfig:\n",
    "        config = self.config.data_tf_evaluation\n",
    "\n",
    "        create_directories([config.root_dir])\n",
    "\n",
    "        data_tf_evaluation_config = DataTFEvaluationConfig(\n",
    "            root_dir=config.root_dir,\n",
    "            data_path=config.data_path,\n",
    "            model_path=config.model_path\n",
    "            \n",
    "           \n",
    "        )\n",
    "\n",
    "        return data_tf_evaluation_config"
   ]
  },
  {
   "cell_type": "code",
   "execution_count": 6,
   "metadata": {},
   "outputs": [],
   "source": [
    "import tensorflow as tf\n",
    "import numpy as np\n",
    "import pandas as pd\n",
    "from pathlib import Path\n",
    "from typing import Dict, Any, Tuple\n",
    "from dataclasses import dataclass\n",
    "import os\n",
    "from ard import logger\n",
    "from ard.utils.tf_utils import build_dataset, finalize_dataset\n",
    "\n",
    "tf.get_logger().setLevel('ERROR')  # Stop tf WARNINGS\n",
    "\n",
    "\n",
    "class ModelEvaluation:\n",
    "    def __init__(self, config: DataTFEvaluationConfig):\n",
    "        self.config = config\n",
    "        \n",
    "        \n",
    "    def predict(self):\n",
    "        # Prepare to collect test audio and labels\n",
    "        test_files = pd.read_csv(os.path.join(self.config.data_path))\n",
    "        logger.info(f\"Total Test files: {len(test_files)}\")\n",
    "        test = self._create_dataset(test_files['path'].tolist())\n",
    "        model = tf.keras.models.load_model(self.config.model_path)\n",
    "        test_audio = []\n",
    "        test_labels = []\n",
    "\n",
    "        for audio, label in test:\n",
    "            # Convert tensors to numpy arrays\n",
    "            audio_np = audio.numpy()  \n",
    "            test_audio.append(audio_np)\n",
    "            test_labels.append(label.numpy()) \n",
    "\n",
    "        # Concatenate the batches into a single array\n",
    "        test_audio = np.concatenate(test_audio, axis=0)  \n",
    "        test_labels = np.concatenate(test_labels, axis=0)  \n",
    "\n",
    "        # Now you can evaluate the model\n",
    "        loss, accuracy = model.evaluate(test_audio, test_labels)\n",
    "        logger.info(f'Test Loss: {loss:.4f}, Test Accuracy: {accuracy:.4f}')\n",
    "        \n",
    "    def _create_dataset(self, files):\n",
    "        AUTOTUNE = tf.data.AUTOTUNE\n",
    "\n",
    "        test_ds = build_dataset(files, AUTOTUNE)\n",
    "\n",
    "        return finalize_dataset(test_ds, AUTOTUNE)"
   ]
  },
  {
   "cell_type": "code",
   "execution_count": 7,
   "metadata": {},
   "outputs": [
    {
     "name": "stdout",
     "output_type": "stream",
     "text": [
      "[2024-08-12 00:03:11,000: INFO: help: yaml file: config\\config.yaml loaded successfully. Content size: 8]\n",
      "[2024-08-12 00:03:11,004: INFO: help: Total directories created: 1]\n",
      "[2024-08-12 00:03:11,011: INFO: help: Total directories created: 1]\n",
      "[2024-08-12 00:03:11,027: INFO: 1423599473: Total Test files: 41]\n",
      "2/2 [==============================] - 2s 161ms/step - loss: 1.7690 - accuracy: 0.7317\n",
      "[2024-08-12 00:04:05,989: INFO: 1423599473: Test Loss: 1.7690, Test Accuracy: 0.7317]\n"
     ]
    }
   ],
   "source": [
    "try:\n",
    "    config = ConfigurationManager()\n",
    "    data_tf_evaluation_config = config.get_data_tf_evaluation_config()\n",
    "    data_tf_evaluation = ModelEvaluation(config=data_tf_evaluation_config)\n",
    "    data_tf_evaluation.predict()\n",
    "\n",
    "except Exception as e:\n",
    "    raise e"
   ]
  }
 ],
 "metadata": {
  "kernelspec": {
   "display_name": "Python 3.8.19 ('arabdigs')",
   "language": "python",
   "name": "python3"
  },
  "language_info": {
   "codemirror_mode": {
    "name": "ipython",
    "version": 3
   },
   "file_extension": ".py",
   "mimetype": "text/x-python",
   "name": "python",
   "nbconvert_exporter": "python",
   "pygments_lexer": "ipython3",
   "version": "3.8.19"
  },
  "orig_nbformat": 4,
  "vscode": {
   "interpreter": {
    "hash": "bd9d8875aaa423a5faaee251418e522698c11b85bd3df211ca48675ae00acaaa"
   }
  }
 },
 "nbformat": 4,
 "nbformat_minor": 2
}
