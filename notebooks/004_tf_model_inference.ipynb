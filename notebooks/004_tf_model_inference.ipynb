{
 "cells": [
  {
   "cell_type": "code",
   "execution_count": 1,
   "metadata": {},
   "outputs": [],
   "source": [
    "import os\n",
    "os.chdir(\"../\")"
   ]
  },
  {
   "cell_type": "code",
   "execution_count": 2,
   "metadata": {},
   "outputs": [
    {
     "data": {
      "text/plain": [
       "'e:\\\\MyOnlineCourses\\\\ML_Projects\\\\arabic-digits-recognition'"
      ]
     },
     "execution_count": 2,
     "metadata": {},
     "output_type": "execute_result"
    }
   ],
   "source": [
    "%pwd"
   ]
  },
  {
   "cell_type": "code",
   "execution_count": 3,
   "metadata": {},
   "outputs": [],
   "source": [
    "from dataclasses import dataclass\n",
    "from pathlib import Path\n",
    "\n",
    "\n",
    "@dataclass(frozen=True)\n",
    "class DataTFInferenceConfig:\n",
    "    root_dir: Path\n",
    "    audio_path: str\n",
    "    model_path: str\n",
    "    "
   ]
  },
  {
   "cell_type": "code",
   "execution_count": 30,
   "metadata": {},
   "outputs": [],
   "source": [
    "from ard.constants import *\n",
    "from ard.utils.help import read_yaml, create_directories\n",
    "\n",
    "class ConfigurationManager:\n",
    "    def __init__(\n",
    "        self,\n",
    "        config_filepath = CONFIG_FILE_PATH,\n",
    "        params_filepath = PARAMS_FILE_PATH):\n",
    "\n",
    "        self.config = read_yaml(config_filepath)\n",
    "        self.params = read_yaml(params_filepath)\n",
    "\n",
    "        create_directories([self.config.artifacts_root])\n",
    "\n",
    "\n",
    "\n",
    "    \n",
    "    def get_data_tf_inference_config(self) -> DataTFInferenceConfig:\n",
    "        config = self.config.data_tf_inference\n",
    "\n",
    "        create_directories([config.root_dir])\n",
    "\n",
    "        data_tf_inference_config = DataTFInferenceConfig(\n",
    "            root_dir=config.root_dir,\n",
    "            audio_path=config.audio_path,\n",
    "            model_path=config.model_path\n",
    "           \n",
    "        )\n",
    "\n",
    "        return data_tf_inference_config, self.params"
   ]
  },
  {
   "cell_type": "code",
   "execution_count": 35,
   "metadata": {},
   "outputs": [],
   "source": [
    "import tensorflow as tf\n",
    "import numpy as np\n",
    "import pandas as pd\n",
    "from pathlib import Path\n",
    "from typing import Dict, Any, Tuple\n",
    "from dataclasses import dataclass\n",
    "import os\n",
    "\n",
    "import tensorflow_io as tfio\n",
    "from ard import logger\n",
    "\n",
    "tf.get_logger().setLevel('ERROR') \n",
    "class ModelInference:\n",
    "    def __init__(self, config: DataTFInferenceConfig, params: Dict[str, Any]):\n",
    "        self.config = config\n",
    "        self.params=params\n",
    "        self.model = tf.keras.models.load_model(self.config.model_path)\n",
    "        self._target_sample_rate = params['TARGET_SAMPLE_RATE']\n",
    "    def preprocess_audio(self):\n",
    "        # Read the audio file\n",
    "        test_data = pd.read_csv(self.config.audio_path)\n",
    "    \n",
    "        # Select a random row from the specified column\n",
    "        audio_path = test_data[\"path\"].sample(n=1).values[0]  # Get a \n",
    "        logger.info(str(audio_path))\n",
    "        audio_data = tf.io.read_file(audio_path)\n",
    "        audio, sample_rate = tf.audio.decode_wav(audio_data, desired_channels=1)\n",
    "        audio = tf.squeeze(audio, axis=-1)\n",
    "        sample_rate = tf.cast(sample_rate, dtype=tf.int64)\n",
    "        audio =  tfio.audio.resample(audio,rate_in=sample_rate, rate_out=16000)\n",
    "        logger.info(f\"Input length {len(audio)}\")\n",
    "        input_len = 10000\n",
    "        if tf.shape(audio)[0] < input_len:\n",
    "            zero_padding = tf.zeros(\n",
    "                [10000] - tf.shape(audio),\n",
    "                dtype=tf.float32)\n",
    "            audio = tf.cast(audio, dtype=tf.float32)\n",
    "            equal_length = tf.concat([audio, zero_padding], 0)\n",
    "        else:\n",
    "            equal_length = audio[:input_len]\n",
    "            \n",
    "        logger.info(f\"Input length {len(equal_length)}\")\n",
    "        spectrogram = tf.signal.stft(\n",
    "            equal_length, frame_length=self.params.FRAME_LENGTH, \n",
    "            frame_step=self.params.FRAME_STEP, window_fn = tf.signal.hamming_window)\n",
    "\n",
    "        spectrogram = tf.abs(spectrogram)\n",
    "        spectrogram = spectrogram[..., tf.newaxis]\n",
    "        logger.info(f\"Shape of WAV is {spectrogram.shape}\")\n",
    "        spectrogram = tf.expand_dims(spectrogram, axis=0)  \n",
    "\n",
    "        return spectrogram\n",
    "\n",
    "    def predict(self):\n",
    "        audio_data = self.preprocess_audio()\n",
    "        predictions = self.model.predict(audio_data)\n",
    "        predicted_label = np.argmax(predictions, axis=1)\n",
    "        logger.info(f\"Prediction score of the givin digit is:{predicted_label}\")\n",
    "        \n",
    "\n"
   ]
  },
  {
   "cell_type": "code",
   "execution_count": 36,
   "metadata": {},
   "outputs": [
    {
     "name": "stdout",
     "output_type": "stream",
     "text": [
      "[2024-08-12 11:12:08,400: INFO: help: yaml file: config\\config.yaml loaded successfully. Content size: 9]\n",
      "[2024-08-12 11:12:08,410: INFO: help: yaml file: params.yaml loaded successfully. Content size: 9]\n",
      "[2024-08-12 11:12:08,413: INFO: help: Total directories created: 1]\n",
      "[2024-08-12 11:12:08,419: INFO: help: Total directories created: 1]\n",
      "[2024-08-12 11:12:12,612: INFO: 3137233790: E:\\MyOnlineCourses\\ML_Projects\\ADR\\ArabDIGdtCls\\one\\one-2-t-37.wav]\n",
      "[2024-08-12 11:12:12,706: INFO: 3137233790: Input length 12890]\n",
      "[2024-08-12 11:12:12,711: INFO: 3137233790: Input length 10000]\n",
      "[2024-08-12 11:12:12,732: INFO: 3137233790: Shape of WAV is (18, 513, 1)]\n",
      "1/1 [==============================] - 2s 2s/step\n",
      "[2024-08-12 11:12:14,641: INFO: 3137233790: Prediction score of the givin digit is:[4]]\n"
     ]
    }
   ],
   "source": [
    "try:\n",
    "    config = ConfigurationManager()\n",
    "    data_tf_inference_config, data_tf_inference_params = config.get_data_tf_inference_config()\n",
    "    data_tf_inference = ModelInference(config=data_tf_inference_config, params=data_tf_inference_params)\n",
    "    data_tf_inference.predict()\n",
    "\n",
    "except Exception as e:\n",
    "    raise e"
   ]
  }
 ],
 "metadata": {
  "kernelspec": {
   "display_name": "Python 3.8.19 ('arabdigs')",
   "language": "python",
   "name": "python3"
  },
  "language_info": {
   "codemirror_mode": {
    "name": "ipython",
    "version": 3
   },
   "file_extension": ".py",
   "mimetype": "text/x-python",
   "name": "python",
   "nbconvert_exporter": "python",
   "pygments_lexer": "ipython3",
   "version": "3.8.19"
  },
  "orig_nbformat": 4,
  "vscode": {
   "interpreter": {
    "hash": "bd9d8875aaa423a5faaee251418e522698c11b85bd3df211ca48675ae00acaaa"
   }
  }
 },
 "nbformat": 4,
 "nbformat_minor": 2
}
