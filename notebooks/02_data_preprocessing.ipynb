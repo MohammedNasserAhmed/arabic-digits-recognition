{
 "cells": [
  {
   "cell_type": "code",
   "execution_count": 1,
   "metadata": {},
   "outputs": [],
   "source": [
    "import os\n",
    "os.chdir(\"../\")"
   ]
  },
  {
   "cell_type": "code",
   "execution_count": 2,
   "metadata": {},
   "outputs": [
    {
     "data": {
      "text/plain": [
       "'e:\\\\MyOnlineCourses\\\\ML_Projects\\\\arabic-digits-recognition'"
      ]
     },
     "execution_count": 2,
     "metadata": {},
     "output_type": "execute_result"
    }
   ],
   "source": [
    "%pwd"
   ]
  },
  {
   "cell_type": "code",
   "execution_count": 3,
   "metadata": {},
   "outputs": [],
   "source": [
    "from dataclasses import dataclass\n",
    "from pathlib import Path\n",
    "\n",
    "\n",
    "@dataclass(frozen=True)\n",
    "class DataPreprocessConfig:\n",
    "    root_dir: Path\n",
    "    source_path: str\n",
    "    data_file: Path"
   ]
  },
  {
   "cell_type": "code",
   "execution_count": 4,
   "metadata": {},
   "outputs": [],
   "source": [
    "from adr.constants import *\n",
    "from adr.utils.help import read_yaml, create_directories"
   ]
  },
  {
   "cell_type": "code",
   "execution_count": 5,
   "metadata": {},
   "outputs": [],
   "source": [
    "class ConfigurationManager:\n",
    "    def __init__(\n",
    "        self,\n",
    "        config_filepath = CONFIG_FILE_PATH):\n",
    "\n",
    "        self.config = read_yaml(config_filepath)\n",
    "\n",
    "        create_directories([self.config.artifacts_root])\n",
    "\n",
    "\n",
    "    \n",
    "    def get_data_preprocess_config(self) -> DataPreprocessConfig:\n",
    "        config = self.config.data_preprocessing\n",
    "\n",
    "        create_directories([config.root_dir])\n",
    "\n",
    "        data_preprocess_config = DataPreprocessConfig(\n",
    "            root_dir=config.root_dir,\n",
    "            source_path=config.source_path,\n",
    "            data_file=config.data_file,\n",
    "        )\n",
    "\n",
    "        return data_preprocess_config"
   ]
  },
  {
   "cell_type": "code",
   "execution_count": 6,
   "metadata": {},
   "outputs": [],
   "source": [
    "import numpy as np\n",
    "from adr.utils.dataset import SeqDataset\n",
    "from sklearn.decomposition import PCA\n",
    "from operator import itemgetter\n",
    "from adr import logger\n",
    "class DataPreprocessing:\n",
    "    def __init__(self,\n",
    "                 config : DataPreprocessConfig\n",
    "    ):\n",
    "        self.config=config\n",
    "        self._source_path = self.config.source_path\n",
    "        self._data_file = self.config.data_file\n",
    "    def get_data(self):\n",
    "        data = np.load(self._source_path, allow_pickle=True)\n",
    "\n",
    "        # Fetch arrays from loaded file\n",
    "        features, targets, lengths, classes = itemgetter('features', 'targets', 'lengths', 'classes')(data)\n",
    "        # Assuming features is of shape (n_samples, n_timesteps, n_features)\n",
    "        n_samples, n_timesteps, n_features = features.shape\n",
    "        \n",
    "        pca = PCA(n_components=40)\n",
    "        # Apply PCA to each time step\n",
    "        features = np.array([\n",
    "            pca.fit_transform(features[:, t, :]) for t in range(n_timesteps)\n",
    "        ]).transpose(1, 0, 2)  # Reshape back to original structure if needed\n",
    "        \n",
    "        idx = np.argwhere(np.isin(targets, classes)).flatten()\n",
    "        logger.info(f\"features shape :{features.shape} type:{type(features)}\")\n",
    "        return SeqDataset(\n",
    "            features = features[idx],\n",
    "            targets = targets[idx],\n",
    "            lengths= lengths[idx],\n",
    "            classes=classes, path =self._data_file)\n",
    "        \n",
    "        \n",
    " "
   ]
  },
  {
   "cell_type": "code",
   "execution_count": 7,
   "metadata": {},
   "outputs": [
    {
     "name": "stdout",
     "output_type": "stream",
     "text": [
      "[2024-08-13 16:57:50,637: INFO: help: yaml file: config\\config.yaml loaded successfully. Content size: 9]\n",
      "[2024-08-13 16:57:50,641: INFO: help: Total directories created: 1]\n",
      "[2024-08-13 16:57:50,644: INFO: help: Total directories created: 1]\n",
      "[2024-08-13 16:57:51,087: INFO: 2230231788: features shape :(402, 52, 40) type:<class 'numpy.ndarray'>]\n",
      "[2024-08-13 16:57:51,263: INFO: dataset: A npz file has been saved]\n"
     ]
    }
   ],
   "source": [
    "try:\n",
    "    config = ConfigurationManager()\n",
    "    data_preprocess_config = config.get_data_preprocess_config()\n",
    "    data_preprocess = DataPreprocessing(config=data_preprocess_config)\n",
    "    dataset = data_preprocess.get_data()\n",
    "    dataset.save(compress=True)\n",
    "\n",
    "except Exception as e:\n",
    "    raise e"
   ]
  },
  {
   "cell_type": "code",
   "execution_count": 8,
   "metadata": {},
   "outputs": [
    {
     "name": "stdout",
     "output_type": "stream",
     "text": [
      "Dataset size: 402\n",
      "Number of classes: 10\n",
      "Train set size: 321\n",
      "Test set size: 81\n",
      "Sample 0:\n",
      "  Feature shape: (52, 40)\n",
      "  Target: 1\n",
      "  Length: 40\n",
      "Sample 1:\n",
      "  Feature shape: (52, 40)\n",
      "  Target: 4\n",
      "  Length: 40\n",
      "Sample 2:\n",
      "  Feature shape: (52, 40)\n",
      "  Target: 4\n",
      "  Length: 40\n",
      "Class 0: 1 samples\n",
      "Class 1: 1 samples\n",
      "Class 2: 1 samples\n",
      "Class 3: 1 samples\n",
      "Class 4: 1 samples\n",
      "Class 5: 1 samples\n",
      "Class 6: 1 samples\n",
      "Class 7: 1 samples\n",
      "Class 8: 1 samples\n",
      "Class 9: 1 samples\n"
     ]
    }
   ],
   "source": [
    "# Check the dataset\n",
    "print(f\"Dataset size: {len(dataset)}\")\n",
    "print(f\"Number of classes: {len(dataset._classes)}\")\n",
    "\n",
    "# Split the dataset\n",
    "train_data, test_data = dataset.split_data(split_size=0.2, shuffle=True, stratify=True)\n",
    "\n",
    "print(f\"Train set size: {len(train_data)}\")\n",
    "print(f\"Test set size: {len(test_data)}\")\n",
    "\n",
    "# Iterate through the dataset\n",
    "for i, (feature, target, length) in enumerate(dataset):\n",
    "    print(f\"Sample {i}:\")\n",
    "    print(f\"  Feature shape: {feature.shape}\")\n",
    "    print(f\"  Target: {target}\")\n",
    "    print(f\"  Length: {length}\")\n",
    "    if i == 2:  # Print only first 3 samples\n",
    "        break\n",
    "class_samples = {}\n",
    "for features, class_label in dataset.iterator():\n",
    "    if class_label not in class_samples:\n",
    "        class_samples[class_label] = 0\n",
    "    class_samples[class_label] += 1\n",
    "\n",
    "for class_label, count in class_samples.items():\n",
    "    print(f\"Class {class_label}: {count} samples\")\n",
    "\n"
   ]
  }
 ],
 "metadata": {
  "kernelspec": {
   "display_name": "Python 3.8.19 ('arabdigs')",
   "language": "python",
   "name": "python3"
  },
  "language_info": {
   "codemirror_mode": {
    "name": "ipython",
    "version": 3
   },
   "file_extension": ".py",
   "mimetype": "text/x-python",
   "name": "python",
   "nbconvert_exporter": "python",
   "pygments_lexer": "ipython3",
   "version": "3.8.19"
  },
  "orig_nbformat": 4,
  "vscode": {
   "interpreter": {
    "hash": "bd9d8875aaa423a5faaee251418e522698c11b85bd3df211ca48675ae00acaaa"
   }
  }
 },
 "nbformat": 4,
 "nbformat_minor": 2
}
